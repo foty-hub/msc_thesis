{
 "cells": [
  {
   "cell_type": "code",
   "execution_count": null,
   "id": "949b3ab2",
   "metadata": {},
   "outputs": [],
   "source": [
    "delta = 0.5\n",
    "\n",
    "val = 0\n",
    "for i in range(1, 1_100):\n",
    "    val += delta ** i"
   ]
  },
  {
   "cell_type": "code",
   "execution_count": 24,
   "id": "9368954e",
   "metadata": {},
   "outputs": [
    {
     "data": {
      "text/plain": [
       "1.0"
      ]
     },
     "execution_count": 24,
     "metadata": {},
     "output_type": "execute_result"
    }
   ],
   "source": [
    "val"
   ]
  },
  {
   "cell_type": "code",
   "execution_count": null,
   "id": "2716bb44",
   "metadata": {},
   "outputs": [],
   "source": []
  }
 ],
 "metadata": {
  "kernelspec": {
   "display_name": ".venv",
   "language": "python",
   "name": "python3"
  },
  "language_info": {
   "codemirror_mode": {
    "name": "ipython",
    "version": 3
   },
   "file_extension": ".py",
   "mimetype": "text/x-python",
   "name": "python",
   "nbconvert_exporter": "python",
   "pygments_lexer": "ipython3",
   "version": "3.13.3"
  }
 },
 "nbformat": 4,
 "nbformat_minor": 5
}
