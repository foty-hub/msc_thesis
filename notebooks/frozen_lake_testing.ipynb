{
 "cells": [
  {
   "cell_type": "markdown",
   "id": "453f6acb",
   "metadata": {},
   "source": [
    "# Frozen Lake Testing\n",
    "\n",
    "Short notebook just playing around with the Frozen Lake environment to get a feel for it."
   ]
  },
  {
   "cell_type": "code",
   "execution_count": 154,
   "id": "be69c8dd",
   "metadata": {},
   "outputs": [],
   "source": [
    "from crl.envs.frozen_lake import make_env"
   ]
  },
  {
   "cell_type": "code",
   "execution_count": 155,
   "id": "279d46f4",
   "metadata": {},
   "outputs": [],
   "source": [
    "make = make_env(42)"
   ]
  },
  {
   "cell_type": "code",
   "execution_count": null,
   "id": "667366f8",
   "metadata": {},
   "outputs": [],
   "source": []
  }
 ],
 "metadata": {
  "kernelspec": {
   "display_name": ".venv",
   "language": "python",
   "name": "python3"
  },
  "language_info": {
   "codemirror_mode": {
    "name": "ipython",
    "version": 3
   },
   "file_extension": ".py",
   "mimetype": "text/x-python",
   "name": "python",
   "nbconvert_exporter": "python",
   "pygments_lexer": "ipython3",
   "version": "3.13.3"
  }
 },
 "nbformat": 4,
 "nbformat_minor": 5
}
