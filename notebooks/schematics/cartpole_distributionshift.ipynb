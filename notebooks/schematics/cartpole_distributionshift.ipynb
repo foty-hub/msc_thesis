{
 "cells": [
  {
   "cell_type": "markdown",
   "id": "734bae92",
   "metadata": {},
   "source": [
    "# Export images from CartPole to illustrate distribution shift"
   ]
  },
  {
   "cell_type": "code",
   "execution_count": 9,
   "id": "9d0d1a74",
   "metadata": {},
   "outputs": [
    {
     "data": {
      "image/png": "[encoded data removed]",
      "text/plain": [
       "<Figure size 1200x450 with 2 Axes>"
      ]
     },
     "metadata": {},
     "output_type": "display_data"
    }
   ],
   "source": [
    "import gymnasium as gym\n",
    "from PIL import Image\n",
    "\n",
    "import gymnasium as gym\n",
    "import matplotlib.pyplot as plt\n",
    "\n",
    "# 1) Render a frame at default length (0.5)\n",
    "seed = 123\n",
    "env = gym.make(\"CartPole-v1\", render_mode=\"rgb_array\")\n",
    "env.reset(seed=seed)\n",
    "for _ in range(10):\n",
    "    env.step(0)\n",
    "state = env.unwrapped.state.copy()\n",
    "len0 = float(env.unwrapped.length)          # half-length (default 0.5)\n",
    "frame0 = env.render()\n",
    "\n",
    "# 2) Render a frame at doubled length (1.0) in the *same state*\n",
    "env2 = gym.make(\"CartPole-v1\", render_mode=\"rgb_array\")\n",
    "env2.reset(seed=seed)\n",
    "env2.unwrapped.state = state.copy()\n",
    "env2.unwrapped.length = len0 * 1.5          # 1.0\n",
    "env2.unwrapped.polemass_length = env2.unwrapped.masspole * env2.unwrapped.length\n",
    "frame1 = env2.render()\n",
    "\n",
    "# 3) Plot side-by-side with titles showing the half-length\n",
    "fig, axes = plt.subplots(1, 2, figsize=(8, 3), dpi=150)\n",
    "axes[0].imshow(frame0); axes[0].set_title(f\"length = {len0:.1f}\"); axes[0].axis(\"off\")\n",
    "axes[1].imshow(frame1); axes[1].set_title(f\"length = {env2.unwrapped.length:.1f}\"); axes[1].axis(\"off\")\n",
    "plt.tight_layout()\n",
    "plt.show()\n",
    "\n",
    "env.close(); env2.close()"
   ]
  },
  {
   "cell_type": "code",
   "execution_count": 15,
   "id": "2a98709f",
   "metadata": {},
   "outputs": [
    {
     "data": {
      "text/plain": [
       "['__annotations__',\n",
       " '__class__',\n",
       " '__class_getitem__',\n",
       " '__delattr__',\n",
       " '__dict__',\n",
       " '__dir__',\n",
       " '__doc__',\n",
       " '__enter__',\n",
       " '__eq__',\n",
       " '__exit__',\n",
       " '__firstlineno__',\n",
       " '__format__',\n",
       " '__ge__',\n",
       " '__getattribute__',\n",
       " '__getstate__',\n",
       " '__gt__',\n",
       " '__hash__',\n",
       " '__init__',\n",
       " '__init_subclass__',\n",
       " '__le__',\n",
       " '__lt__',\n",
       " '__module__',\n",
       " '__ne__',\n",
       " '__new__',\n",
       " '__orig_bases__',\n",
       " '__parameters__',\n",
       " '__reduce__',\n",
       " '__reduce_ex__',\n",
       " '__repr__',\n",
       " '__setattr__',\n",
       " '__sizeof__',\n",
       " '__static_attributes__',\n",
       " '__str__',\n",
       " '__subclasshook__',\n",
       " '__weakref__',\n",
       " '_np_random',\n",
       " '_np_random_seed',\n",
       " '_sutton_barto_reward',\n",
       " 'action_space',\n",
       " 'clock',\n",
       " 'close',\n",
       " 'force_mag',\n",
       " 'get_wrapper_attr',\n",
       " 'gravity',\n",
       " 'has_wrapper_attr',\n",
       " 'isopen',\n",
       " 'kinematics_integrator',\n",
       " 'length',\n",
       " 'masscart',\n",
       " 'masspole',\n",
       " 'metadata',\n",
       " 'np_random',\n",
       " 'np_random_seed',\n",
       " 'observation_space',\n",
       " 'polemass_length',\n",
       " 'render',\n",
       " 'render_mode',\n",
       " 'reset',\n",
       " 'screen',\n",
       " 'screen_height',\n",
       " 'screen_width',\n",
       " 'set_wrapper_attr',\n",
       " 'spec',\n",
       " 'state',\n",
       " 'step',\n",
       " 'steps_beyond_terminated',\n",
       " 'surf',\n",
       " 'tau',\n",
       " 'theta_threshold_radians',\n",
       " 'total_mass',\n",
       " 'unwrapped',\n",
       " 'x_threshold']"
      ]
     },
     "execution_count": 15,
     "metadata": {},
     "output_type": "execute_result"
    }
   ],
   "source": [
    "dir(env.unwrapped)"
   ]
  },
  {
   "cell_type": "code",
   "execution_count": null,
   "id": "40fd312b",
   "metadata": {},
   "outputs": [],
   "source": []
  }
 ],
 "metadata": {
  "kernelspec": {
   "display_name": "msc-thesis",
   "language": "python",
   "name": "python3"
  },
  "language_info": {
   "codemirror_mode": {
    "name": "ipython",
    "version": 3
   },
   "file_extension": ".py",
   "mimetype": "text/x-python",
   "name": "python",
   "nbconvert_exporter": "python",
   "pygments_lexer": "ipython3",
   "version": "3.13.3"
  }
 },
 "nbformat": 4,
 "nbformat_minor": 5
}
