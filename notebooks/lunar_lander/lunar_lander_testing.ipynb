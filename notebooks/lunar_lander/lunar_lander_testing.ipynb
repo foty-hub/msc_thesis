{
 "cells": [
  {
   "cell_type": "markdown",
   "id": "dd1e2851",
   "metadata": {},
   "source": [
    "# Lunar Lander - CP for continuous RL Environments"
   ]
  },
  {
   "cell_type": "markdown",
   "id": "7db72e0d",
   "metadata": {},
   "source": [
    "**State Space**\n",
    "\n",
    "| # | Variable | Range / Possible Values | Notes |\n",
    "|---|----------|-------------------------|-------|\n",
    "| 0 | x | (-2.5, 2.5) | Horizontal position |\n",
    "| 1 | y | (-2.5, 2.5) | Vertical position |\n",
    "| 2 | v_x | (-10.0, 10.0) | Horizontal velocity |\n",
    "| 3 | v_y | (-10.0, 10.0) | Vertical velocity |\n",
    "| 4 | $\\theta$ | ($-2\\pi$, $2\\pi$) radians | Orientation angle |\n",
    "| 5 | $\\omega$ | (-10, 10) radians $s^{-1}$ | Angular velocity |\n",
    "| 6 | `left_leg_connected`  | {0, 1} | 0 = disconnected, 1 = contact |\n",
    "| 7 | `right_leg_connected` | {0, 1} | 0 = disconnected, 1 = contact |\n",
    "\n",
    "**Action Space**\n",
    "\n",
    "| # | Action |\n",
    "|---|--------|\n",
    "| 0 | Do nothing |\n",
    "| 1 | Fire left orientation engine |\n",
    "| 2 | Fire main engine |\n",
    "| 3 | Fire right orientation engine |"
   ]
  },
  {
   "cell_type": "code",
   "execution_count": null,
   "id": "8210799f",
   "metadata": {},
   "outputs": [],
   "source": [
    "import jax\n",
    "import gymnasium as gym\n",
    "import jax.numpy as jnp"
   ]
  },
  {
   "cell_type": "code",
   "execution_count": null,
   "id": "e961d91a",
   "metadata": {},
   "outputs": [],
   "source": [
    "env = gym.make(\"LunarLander-v3\", continuous=False, gravity=-10.0,\n",
    "               enable_wind=False, wind_power=15.0, turbulence_power=1.5)\n",
    "state, info = env.reset()"
   ]
  },
  {
   "cell_type": "code",
   "execution_count": null,
   "id": "7ffa2fd6",
   "metadata": {},
   "outputs": [],
   "source": [
    "# Dyna style continuous agent using a world model for prediction\n"
   ]
  }
 ],
 "metadata": {
  "kernelspec": {
   "display_name": "msc-thesis",
   "language": "python",
   "name": "python3"
  },
  "language_info": {
   "codemirror_mode": {
    "name": "ipython",
    "version": 3
   },
   "file_extension": ".py",
   "mimetype": "text/x-python",
   "name": "python",
   "nbconvert_exporter": "python",
   "pygments_lexer": "ipython3",
   "version": "3.13.3"
  }
 },
 "nbformat": 4,
 "nbformat_minor": 5
}
