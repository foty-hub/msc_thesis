{
 "cells": [
  {
   "cell_type": "markdown",
   "id": "8a849ebd",
   "metadata": {},
   "source": [
    "# Conformal Prediction Minimal Implementation\n",
    "\n",
    "As a basic introduction to conformal prediction, this notebook trains a simple classifier for CIFAR10 prediction, and then adds conformal prediction on top to give prediction sets."
   ]
  },
  {
   "cell_type": "code",
   "execution_count": 58,
   "id": "aa33a362",
   "metadata": {},
   "outputs": [],
   "source": [
    "import jax\n",
    "import torch\n",
    "import numpy as np\n",
    "import jax.numpy as jnp\n",
    "import flax.linen as nn\n",
    "\n",
    "from einops import rearrange\n",
    "from pprint import pprint\n",
    "from torch.utils.data import default_collate, DataLoader\n",
    "from torchvision.datasets import CIFAR10"
   ]
  },
  {
   "cell_type": "markdown",
   "id": "15bc3f43",
   "metadata": {},
   "source": [
    "## Pull in the data and transform it"
   ]
  },
  {
   "cell_type": "code",
   "execution_count": 59,
   "id": "cbc0c719",
   "metadata": {},
   "outputs": [],
   "source": [
    "def pil_to_tensor(img):\n",
    "    \"\"\"Convert a PIL Image to a JAX array scaled to [0,1] or rearranged for non-MNIST images.\"\"\"\n",
    "    return torch.tensor(np.array(img), dtype=torch.float32) / 255.0\n",
    "\n",
    "def numpy_collate(batch):\n",
    "  return jax.tree.map(jnp.asarray, default_collate(batch))\n",
    "\n",
    "def one_hot(batch):\n",
    "   batch = torch.tensor(batch)\n",
    "   return torch.nn.functional.one_hot(batch, num_classes=10)\n",
    "\n",
    "dataset_gen = torch.Generator().manual_seed(42)\n",
    "\n",
    "trainvalset = CIFAR10(download=True, root='../data/', train=True, transform=pil_to_tensor, target_transform=one_hot)\n",
    "testset = CIFAR10(download=True, root='../data/', train=False, transform=pil_to_tensor, target_transform=one_hot)\n",
    "# split out a validation set\n",
    "trainset = torch.utils.data.Subset(trainvalset, indices=range(40_000))\n",
    "valset = torch.utils.data.Subset(trainvalset, indices=range(40_000, 50_000))\n",
    "# conver to dataloaders\n",
    "trainloader = DataLoader(trainset, batch_size=64, shuffle=True, generator=dataset_gen, collate_fn=numpy_collate)\n",
    "valloader = DataLoader(valset, batch_size=64, shuffle=True, generator=dataset_gen, collate_fn=numpy_collate)\n",
    "testloader = DataLoader(testset, batch_size=64, shuffle=True, generator=dataset_gen, collate_fn=numpy_collate)"
   ]
  },
  {
   "cell_type": "markdown",
   "id": "c91fb6da",
   "metadata": {},
   "source": [
    "## Define and instantiate the model"
   ]
  },
  {
   "cell_type": "code",
   "execution_count": 60,
   "id": "5b184cb3",
   "metadata": {},
   "outputs": [],
   "source": [
    "class CIFARClassifier(nn.Module):\n",
    "    \"\"\"Minimal CNN for CIFAR-10.\"\"\"\n",
    "    num_classes: int = 10\n",
    "\n",
    "    @nn.compact\n",
    "    def __call__(self, x: jnp.ndarray, *, train: bool = True) -> jnp.ndarray:\n",
    "        # Block 1\n",
    "        x = nn.Conv(32, (3, 3), padding='VALID')(x)      # 32×32 → 30×30, 32 ch\n",
    "        x = nn.relu(x)\n",
    "        x = nn.Conv(64, (3, 3), padding='VALID')(x)      # 30×30 → 28×28, 64 ch\n",
    "        x = nn.relu(x)\n",
    "        x = nn.avg_pool(x, (2, 2), (2, 2))  # 28×28 → 14×14\n",
    "\n",
    "        # Block 2\n",
    "        x = nn.Conv(128, (3, 3), padding='VALID')(x)     # 14×14 → 12×12, 128 ch\n",
    "        x = nn.relu(x)\n",
    "        x = nn.avg_pool(x, (2, 2), (2, 2))  # 12×12 → 6×6\n",
    "\n",
    "        # Head\n",
    "        x = rearrange(x, 'b h w d -> b (h w d)')     # flatten: 6×6×128 = 4608\n",
    "        x = nn.Dense(256)(x)\n",
    "        x = nn.relu(x)\n",
    "        x = nn.Dropout(0.5, deterministic=not train)(x)\n",
    "        x = nn.Dense(self.num_classes)(x)   # logits shape: (batch, 10)\n",
    "        return x"
   ]
  },
  {
   "cell_type": "code",
   "execution_count": 61,
   "id": "61a8c9c0",
   "metadata": {},
   "outputs": [
    {
     "name": "stdout",
     "output_type": "stream",
     "text": [
      "x:(64, 32, 32, 3), y:(64, 10)\n"
     ]
    }
   ],
   "source": [
    "for x, y in trainloader:\n",
    "    break\n",
    "\n",
    "assert type(x) is type(y) is type(jnp.ones(5))\n",
    "print(f'x:{x.shape}, y:{y.shape}')"
   ]
  },
  {
   "cell_type": "code",
   "execution_count": 62,
   "id": "bb6bf79b",
   "metadata": {},
   "outputs": [
    {
     "name": "stdout",
     "output_type": "stream",
     "text": [
      "{'params': {'Conv_0': {'bias': 32, 'kernel': 864},\n",
      "            'Conv_1': {'bias': 64, 'kernel': 18_432},\n",
      "            'Conv_2': {'bias': 128, 'kernel': 73_728},\n",
      "            'Dense_0': {'bias': 256, 'kernel': 1_179_648},\n",
      "            'Dense_1': {'bias': 10, 'kernel': 2_560}}}\n"
     ]
    }
   ],
   "source": [
    "key = jax.random.key(42)\n",
    "key, subkey = jax.random.split(key)\n",
    "\n",
    "model = CIFARClassifier()\n",
    "\n",
    "params = model.init(subkey, x)\n",
    "pprint(jax.tree.map(jnp.size, params), underscore_numbers=True)"
   ]
  },
  {
   "cell_type": "markdown",
   "id": "736a1bff",
   "metadata": {},
   "source": [
    "## Train the image classifier"
   ]
  },
  {
   "cell_type": "code",
   "execution_count": 63,
   "id": "a99fb866",
   "metadata": {},
   "outputs": [
    {
     "name": "stdout",
     "output_type": "stream",
     "text": [
      "--- Epoch 1\n",
      "  Train loss:              1.5701\n",
      "  Validation loss:         1.2804\n",
      "  Validation accuracy:     0.5410\n",
      "\n",
      "--- Epoch 2\n",
      "  Train loss:              1.2052\n",
      "  Validation loss:         1.0219\n",
      "  Validation accuracy:     0.6450\n",
      "\n",
      "--- Epoch 3\n",
      "  Train loss:              1.0274\n",
      "  Validation loss:         0.9148\n",
      "  Validation accuracy:     0.6783\n",
      "\n",
      "--- Epoch 4\n",
      "  Train loss:              0.9109\n",
      "  Validation loss:         0.8690\n",
      "  Validation accuracy:     0.6983\n",
      "\n",
      "--- Epoch 5\n",
      "  Train loss:              0.8171\n",
      "  Validation loss:         0.8275\n",
      "  Validation accuracy:     0.7204\n",
      "\n",
      "--- Epoch 6\n",
      "  Train loss:              0.7492\n",
      "  Validation loss:         0.7607\n",
      "  Validation accuracy:     0.7389\n",
      "\n",
      "--- Epoch 7\n",
      "  Train loss:              0.6803\n",
      "  Validation loss:         0.7303\n",
      "  Validation accuracy:     0.7472\n",
      "\n",
      "--- Epoch 8\n",
      "  Train loss:              0.6255\n",
      "  Validation loss:         0.7429\n",
      "  Validation accuracy:     0.7534\n",
      "\n",
      "--- Epoch 9\n",
      "  Train loss:              0.5731\n",
      "  Validation loss:         0.7365\n",
      "  Validation accuracy:     0.7525\n",
      "\n",
      "--- Epoch 10\n",
      "  Train loss:              0.5234\n",
      "  Validation loss:         0.7548\n",
      "  Validation accuracy:     0.7544\n",
      "\n"
     ]
    }
   ],
   "source": [
    "import optax\n",
    "from flax.training.train_state import TrainState\n",
    "\n",
    "n_epochs = 10\n",
    "lr = 1e-3\n",
    "dropout_key = jax.random.key(42)\n",
    "\n",
    "tx = optax.adamw(lr)\n",
    "state = TrainState.create(apply_fn=model.apply, params=params, tx=tx)\n",
    "\n",
    "@jax.jit\n",
    "def train_step(state: TrainState, x, y, dropout_rng):\n",
    "    def loss_fn(params: jnp.ndarray):\n",
    "        logits = state.apply_fn(params, x, rngs={'dropout': dropout_rng})\n",
    "        return optax.softmax_cross_entropy(logits, y).mean()\n",
    "    \n",
    "    loss, grads = jax.value_and_grad(loss_fn)(state.params)\n",
    "    state = state.apply_gradients(grads=grads)\n",
    "    return loss, state\n",
    "\n",
    "@jax.jit\n",
    "def eval_step(state: TrainState, x: jnp.ndarray, y: jnp.ndarray) -> tuple[jnp.ndarray, jnp.ndarray]:\n",
    "    \"\"\"Performs a single evaluation step.\"\"\"\n",
    "    # Pass `train=False` to disable dropout\n",
    "    logits = state.apply_fn(state.params, x, train=False)\n",
    "    loss = optax.softmax_cross_entropy(logits, y).mean()\n",
    "    accuracy = jnp.mean(jnp.argmax(logits, -1) == y.argmax(-1))\n",
    "    return loss, accuracy\n",
    "\n",
    "epoch_stats = []\n",
    "for epoch in range(n_epochs):\n",
    "    print(f'--- Epoch {epoch+1}')\n",
    "    batch_losses = []\n",
    "    for x, y in trainloader:\n",
    "        dropout_key, subkey = jax.random.split(dropout_key)\n",
    "        batch_loss, state = train_step(state, x, y, subkey)\n",
    "        batch_losses.append(batch_loss)\n",
    "\n",
    "    # calculate the validation loss\n",
    "    # --- Evaluate on validation set ---\n",
    "    val_losses = []\n",
    "    val_accuracies = []\n",
    "    for x, y in valloader:\n",
    "        val_loss_batch, val_acc_batch = eval_step(state, x, y)\n",
    "        val_losses.append(val_loss_batch)\n",
    "        val_accuracies.append(val_acc_batch)\n",
    "    # --- Compute average metrics for the epoch ---\n",
    "\n",
    "    print(f'  Train loss:              {np.mean(batch_losses):.4f}')\n",
    "    print(f'  Validation loss:         {np.mean(val_losses):.4f}')\n",
    "    print(f'  Validation accuracy:     {np.mean(val_accuracies):.4f}\\n')\n",
    "    epoch_stats = {'batch_losses': batch_losses, 'val_loss': np.mean(val_losses), 'val_accuracy': np.mean(val_accuracies)}"
   ]
  },
  {
   "cell_type": "code",
   "execution_count": 64,
   "id": "edc7f3f4",
   "metadata": {},
   "outputs": [],
   "source": [
    "# import matplotlib.pyplot as plt\n",
    "# plt.plot(batch_losses)"
   ]
  },
  {
   "cell_type": "markdown",
   "id": "789f232b",
   "metadata": {},
   "source": [
    "### Save the trained model"
   ]
  },
  {
   "cell_type": "code",
   "execution_count": null,
   "id": "04d5fe49",
   "metadata": {},
   "outputs": [],
   "source": [
    "import orbax.checkpoint as ocp\n",
    "from flax.training import orbax_utils\n",
    "from os.path import abspath\n",
    "# Directory to save the final model parameters\n",
    "model_dir = './checkpoints/my_trained_model'\n",
    "model_dir = abspath(model_dir)\n",
    "\n",
    "# Create a checkpointer\n",
    "param_checkpointer = ocp.PyTreeCheckpointer()\n",
    "save_args = orbax_utils.save_args_from_target(state.params)\n",
    "\n",
    "# Save only the parameters from the TrainState\n",
    "param_checkpointer.save(model_dir, state.params, save_args=save_args, force=False)"
   ]
  },
  {
   "cell_type": "markdown",
   "id": "085c4420",
   "metadata": {},
   "source": [
    "### Load a trained model"
   ]
  },
  {
   "cell_type": "code",
   "execution_count": 66,
   "id": "c747d9e1",
   "metadata": {},
   "outputs": [
    {
     "name": "stderr",
     "output_type": "stream",
     "text": [
      "/Users/alexinch/Desktop/noodling/msc_thesis/.venv/lib/python3.13/site-packages/orbax/checkpoint/_src/serialization/type_handlers.py:1251: UserWarning: Sharding info not provided when restoring. Populating sharding info from sharding file. Please note restoration time will be slightly increased due to reading from file. Note also that this option is unsafe when restoring on a different topology than the checkpoint was saved with.\n",
      "  warnings.warn(\n"
     ]
    }
   ],
   "source": [
    "loaded_params = param_checkpointer.restore(model_dir)"
   ]
  },
  {
   "cell_type": "markdown",
   "id": "f66ad38c",
   "metadata": {},
   "source": [
    "# Conformal Prediction"
   ]
  },
  {
   "cell_type": "markdown",
   "id": "a3641b96",
   "metadata": {},
   "source": [
    "## Build a calibration set"
   ]
  },
  {
   "cell_type": "code",
   "execution_count": 333,
   "id": "1ded5c1f",
   "metadata": {},
   "outputs": [],
   "source": [
    "n_calibration = 400\n",
    "alpha = 0.1\n",
    "\n",
    "calibration_set = torch.utils.data.Subset(testset, range(n_calibration))\n",
    "calibration_loader = DataLoader(calibration_set, batch_size=64, shuffle=True, generator=dataset_gen, collate_fn=numpy_collate)"
   ]
  },
  {
   "cell_type": "code",
   "execution_count": 334,
   "id": "f55e169a",
   "metadata": {},
   "outputs": [],
   "source": [
    "# now on the calibration set we need to establish the\n",
    "all_scores = []\n",
    "for x, y in calibration_loader:\n",
    "    logits = model.apply(loaded_params, x, train=False)\n",
    "    probs = nn.softmax(logits)\n",
    "    true_classes = y.argmax(-1)\n",
    "    # select the model's predicted probability for the true class, for each example in the batch\n",
    "    batch_scores = 1 - probs[range(len(true_classes)), true_classes]\n",
    "    all_scores.append(batch_scores)\n",
    "\n",
    "all_scores = jnp.concat(all_scores)\n",
    "q_level = jnp.ceil((n_calibration+1)*(1-alpha)) / n_calibration\n",
    "qhat = jnp.quantile(all_scores, q_level, method='higher')"
   ]
  },
  {
   "cell_type": "code",
   "execution_count": null,
   "id": "8f3015a5",
   "metadata": {},
   "outputs": [
    {
     "data": {
      "image/png": "[encoded data removed]",
      "text/plain": [
       "<Figure size 400x300 with 1 Axes>"
      ]
     },
     "metadata": {},
     "output_type": "display_data"
    }
   ],
   "source": [
    "import matplotlib.pyplot as plt\n",
    "import seaborn as sns\n",
    "import time\n",
    "\n",
    "def plot_conformal_hist(scores, qhat, accuracy=0.75, alpha=0.1):\n",
    "    \"\"\"\n",
    "    Histogram of conformal scores with the empirical quantile line.\n",
    "    \n",
    "    Parameters\n",
    "    ----------\n",
    "    scores : 1-D array-like\n",
    "        Conformal scores s_i.\n",
    "    qhat : float\n",
    "        Estimated (1 - α) quantile of scores.\n",
    "    accuracy : float, optional\n",
    "        Reported model accuracy for the title. Default is 0.75 (→ “75%”).\n",
    "    \"\"\"\n",
    "    sns.set_theme(style=\"whitegrid\", rc={\n",
    "        \"axes.spines.top\": False,\n",
    "        \"axes.spines.right\": False,\n",
    "        \"axes.edgecolor\": \".8\",\n",
    "        \"axes.linewidth\": 0.8,\n",
    "        \"grid.linewidth\": 0.4,\n",
    "    })\n",
    "\n",
    "    fig, ax = plt.subplots(figsize=(4, 3))\n",
    "\n",
    "    # Histogram (step-filled, light edge)\n",
    "    sns.histplot(\n",
    "        scores,\n",
    "        bins=25,\n",
    "        ax=ax,\n",
    "        kde=False,\n",
    "        stat=\"count\",\n",
    "        edgecolor=\".1\",\n",
    "        linewidth=0.0,\n",
    "        alpha=0.85\n",
    "    )\n",
    "\n",
    "    # Quantile reference line\n",
    "    ax.axvline(qhat, ls=\"--\", lw=1, c=\".2\")\n",
    "    ymax = ax.get_ylim()[1]\n",
    "    ax.text(qhat - 0.01, 0.96 * ymax,\n",
    "            rf\"\"\"$\\hat{{q}}_{{{alpha}}}$\n",
    "            {qhat:.2f}\"\"\",\n",
    "            ha=\"right\", va=\"top\", fontsize=9)\n",
    "\n",
    "    # Labels and title\n",
    "    ax.set_xlabel(r\"Conformal score $s_i$\")\n",
    "    ax.set_ylabel(\"Count\")\n",
    "    ax.set_title(f\"{int(accuracy * 100)}% Accurate Classifier\", pad=6)\n",
    "\n",
    "    fig.tight_layout(pad=0.4)\n",
    "    return fig\n",
    "\n",
    "# --- usage example ---\n",
    "fig = plot_conformal_hist(all_scores, qhat, alpha=alpha)\n",
    "\n",
    "# e.g., “_20250610_143259”\n",
    "suffix = time.strftime(\"_%Y%m%d_%H%M%S\")\n",
    "figure_dir = '../results/figures/basic_conformal_prediction'\n",
    "fig.savefig(f\"{figure_dir}/conformal_hist_seaborn_{suffix}.pdf\", dpi=300, bbox_inches=\"tight\")"
   ]
  },
  {
   "cell_type": "markdown",
   "id": "2535536c",
   "metadata": {},
   "source": [
    "## Conformal Prediction Examples"
   ]
  },
  {
   "cell_type": "code",
   "execution_count": 346,
   "id": "4f7065d5",
   "metadata": {},
   "outputs": [
    {
     "name": "stdout",
     "output_type": "stream",
     "text": [
      "Proportion of prediction sets containing the true prediction: 0.90167\n",
      "                                                   1 - Alpha: 0.90000\n"
     ]
    }
   ],
   "source": [
    "i = 0\n",
    "\n",
    "trues = 0\n",
    "prediction_sets = []\n",
    "for x_test, y_test in testloader:\n",
    "    # skip the examples uesd in the calibration set\n",
    "    i += 64\n",
    "    if i <= n_calibration:\n",
    "        continue\n",
    "\n",
    "    logits = model.apply(loaded_params, x_test, train=False)\n",
    "    probs = nn.softmax(logits)\n",
    "    scores = 1 - probs\n",
    "    # now select the relevant classes\n",
    "    prediction_set = scores <= qhat\n",
    "    indices = jnp.argwhere(prediction_set)\n",
    "\n",
    "    for idx in range(len(x_test)):\n",
    "        predictions = indices[indices[:, 0] == idx][:, 1]\n",
    "        true_class = y_test[idx].argmax()\n",
    "        if true_class in predictions:\n",
    "            trues += 1\n",
    "        \n",
    "        prediction_sets.append(predictions)\n",
    "\n",
    "# check the accuracy rate\n",
    "valid_rate = trues / (len(testset) - n_calibration)\n",
    "print(f'Proportion of prediction sets containing the true prediction: {valid_rate:.5f}')\n",
    "print(f'                                                   1 - Alpha: {1 - alpha:.5f}')"
   ]
  },
  {
   "cell_type": "code",
   "execution_count": 353,
   "id": "ccc4ae99",
   "metadata": {},
   "outputs": [],
   "source": [
    "prediction_set_sizes = jnp.array(jax.tree.map(jnp.size, prediction_sets))"
   ]
  },
  {
   "cell_type": "code",
   "execution_count": 355,
   "id": "bacade41",
   "metadata": {},
   "outputs": [
    {
     "data": {
      "text/plain": [
       "(array([5276.,    0., 2660.,    0., 1157.,    0.,  435.,    0.,   82.,\n",
       "           6.]),\n",
       " array([1. , 1.5, 2. , 2.5, 3. , 3.5, 4. , 4.5, 5. , 5.5, 6. ]),\n",
       " <BarContainer object of 10 artists>)"
      ]
     },
     "execution_count": 355,
     "metadata": {},
     "output_type": "execute_result"
    },
    {
     "data": {
      "image/png": "[encoded data removed]",
      "text/plain": [
       "<Figure size 640x480 with 1 Axes>"
      ]
     },
     "metadata": {},
     "output_type": "display_data"
    }
   ],
   "source": [
    "plt.hist(prediction_set_sizes)"
   ]
  },
  {
   "cell_type": "code",
   "execution_count": null,
   "id": "007bc677",
   "metadata": {},
   "outputs": [],
   "source": [
    "from PIL import Image\n",
    "\n",
    "def jax_to_pil(img_jnp):\n",
    "    \"\"\"Convert a JAX array (C, H, W) in [0,1] back to a PIL Image.\"\"\"\n",
    "    img = img_jnp * 255.0\n",
    "    img = jnp.clip(img, 0, 255).astype(jnp.uint8)\n",
    "    np_img = np.array(img)\n",
    "    return Image.fromarray(np_img)"
   ]
  },
  {
   "cell_type": "code",
   "execution_count": null,
   "id": "425b8eff",
   "metadata": {},
   "outputs": [],
   "source": [
    "classes = ('plane', 'car', 'bird', 'cat', 'deer', 'dog', 'frog', 'horse', 'ship', 'truck')"
   ]
  },
  {
   "cell_type": "code",
   "execution_count": null,
   "id": "c06f9d10",
   "metadata": {},
   "outputs": [
    {
     "name": "stdout",
     "output_type": "stream",
     "text": [
      "Predictions: cat,dog\n",
      "True Class: dog\n"
     ]
    },
    {
     "data": {
      "image/jpeg": "[encoded data removed]",
      "image/png": "[encoded data removed]",
      "text/plain": [
       "<PIL.Image.Image image mode=RGB size=128x128>"
      ]
     },
     "execution_count": 431,
     "metadata": {},
     "output_type": "execute_result"
    }
   ],
   "source": [
    "idx = 10\n",
    "pred_str = ', '.join([classes[c] for c in prediction_sets[-16+idx]])\n",
    "print(f'Predictions: {pred_str}')\n",
    "print(f'True Class: {classes[y_test[idx].argmax()]}')\n",
    "img = jax_to_pil(x_test[idx])\n",
    "img.resize(size=(128, 128))"
   ]
  },
  {
   "cell_type": "code",
   "execution_count": null,
   "id": "d22bff09",
   "metadata": {},
   "outputs": [],
   "source": []
  }
 ],
 "metadata": {
  "kernelspec": {
   "display_name": ".venv",
   "language": "python",
   "name": "python3"
  },
  "language_info": {
   "codemirror_mode": {
    "name": "ipython",
    "version": 3
   },
   "file_extension": ".py",
   "mimetype": "text/x-python",
   "name": "python",
   "nbconvert_exporter": "python",
   "pygments_lexer": "ipython3",
   "version": "3.13.3"
  }
 },
 "nbformat": 4,
 "nbformat_minor": 5
}
