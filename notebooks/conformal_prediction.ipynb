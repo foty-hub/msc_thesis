{
 "cells": [
  {
   "cell_type": "markdown",
   "id": "8a849ebd",
   "metadata": {},
   "source": [
    "# Conformal Prediction Minimal Implementation\n",
    "\n",
    "As a basic introduction to conformal prediction, this notebook trains a simple classifier for CIFAR10 prediction, and then adds conformal prediction on top to give prediction sets."
   ]
  },
  {
   "cell_type": "code",
   "execution_count": 20,
   "id": "aa33a362",
   "metadata": {},
   "outputs": [],
   "source": [
    "import jax\n",
    "import torch\n",
    "import numpy as np\n",
    "import jax.numpy as jnp\n",
    "import flax.linen as nn\n",
    "\n",
    "from einops import rearrange\n",
    "from pprint import pprint\n",
    "from torch.utils.data import default_collate, DataLoader\n",
    "from torchvision.datasets import CIFAR10"
   ]
  },
  {
   "cell_type": "markdown",
   "id": "15bc3f43",
   "metadata": {},
   "source": [
    "## Pull in the data and transform it"
   ]
  },
  {
   "cell_type": "code",
   "execution_count": 21,
   "id": "cbc0c719",
   "metadata": {},
   "outputs": [],
   "source": [
    "def pil_to_tensor(img):\n",
    "    \"\"\"Convert a PIL Image to a JAX array scaled to [0,1] or rearranged for non-MNIST images.\"\"\"\n",
    "    return torch.tensor(np.array(img), dtype=torch.float32) / 255.0\n",
    "\n",
    "def numpy_collate(batch):\n",
    "  return jax.tree.map(jnp.asarray, default_collate(batch))\n",
    "\n",
    "def one_hot(batch):\n",
    "   batch = torch.tensor(batch)\n",
    "   return torch.nn.functional.one_hot(batch, num_classes=10)\n",
    "\n",
    "dataset_gen = torch.Generator().manual_seed(42)\n",
    "\n",
    "trainvalset = CIFAR10(download=True, root='../data/', train=True, transform=pil_to_tensor, target_transform=one_hot)\n",
    "testset = CIFAR10(download=True, root='../data/', train=False, transform=pil_to_tensor, target_transform=one_hot)\n",
    "# split out a validation set\n",
    "trainset = torch.utils.data.Subset(trainvalset, indices=range(40_000))\n",
    "valset = torch.utils.data.Subset(trainvalset, indices=range(40_000, 50_000))\n",
    "# conver to dataloaders\n",
    "trainloader = DataLoader(trainset, batch_size=64, shuffle=True, generator=dataset_gen, collate_fn=numpy_collate)\n",
    "valloader = DataLoader(valset, batch_size=64, shuffle=True, generator=dataset_gen, collate_fn=numpy_collate)\n",
    "testloader = DataLoader(testset, batch_size=64, shuffle=True, generator=dataset_gen, collate_fn=numpy_collate)"
   ]
  },
  {
   "cell_type": "markdown",
   "id": "c91fb6da",
   "metadata": {},
   "source": [
    "## Define and instantiate the model"
   ]
  },
  {
   "cell_type": "code",
   "execution_count": 22,
   "id": "5b184cb3",
   "metadata": {},
   "outputs": [],
   "source": [
    "class CIFARClassifier(nn.Module):\n",
    "    \"\"\"Minimal CNN for CIFAR-10.\"\"\"\n",
    "    num_classes: int = 10\n",
    "\n",
    "    @nn.compact\n",
    "    def __call__(self, x: jnp.ndarray, *, train: bool = True) -> jnp.ndarray:\n",
    "        # Block 1\n",
    "        x = nn.Conv(32, (3, 3))(x)      # 32×32 → 30×30, 32 ch\n",
    "        x = nn.relu(x)\n",
    "        x = nn.Conv(64, (3, 3))(x)      # 30×30 → 28×28, 64 ch\n",
    "        x = nn.relu(x)\n",
    "        x = nn.avg_pool(x, (2, 2), (2, 2))  # 28×28 → 14×14\n",
    "\n",
    "        # Block 2\n",
    "        x = nn.Conv(128, (3, 3))(x)     # 14×14 → 12×12, 128 ch\n",
    "        x = nn.relu(x)\n",
    "        x = nn.avg_pool(x, (2, 2), (2, 2))  # 12×12 → 6×6\n",
    "\n",
    "        # Head\n",
    "        x = rearrange(x, 'b h w d -> b (h w d)')     # flatten: 6×6×128 = 4608\n",
    "        x = nn.Dense(256)(x)\n",
    "        x = nn.relu(x)\n",
    "        x = nn.Dropout(0.5, deterministic=not train)(x)\n",
    "        x = nn.Dense(self.num_classes)(x)   # logits shape: (batch, 10)\n",
    "        return x"
   ]
  },
  {
   "cell_type": "code",
   "execution_count": 23,
   "id": "61a8c9c0",
   "metadata": {},
   "outputs": [
    {
     "name": "stdout",
     "output_type": "stream",
     "text": [
      "x:(64, 32, 32, 3), y:(64, 10)\n"
     ]
    }
   ],
   "source": [
    "for x, y in trainloader:\n",
    "    break\n",
    "\n",
    "assert type(x) is type(y) is type(jnp.ones(5))\n",
    "print(f'x:{x.shape}, y:{y.shape}')"
   ]
  },
  {
   "cell_type": "code",
   "execution_count": 24,
   "id": "bb6bf79b",
   "metadata": {},
   "outputs": [
    {
     "name": "stdout",
     "output_type": "stream",
     "text": [
      "{'params': {'Conv_0': {'bias': 32, 'kernel': 864},\n",
      "            'Conv_1': {'bias': 64, 'kernel': 18_432},\n",
      "            'Conv_2': {'bias': 128, 'kernel': 73_728},\n",
      "            'Dense_0': {'bias': 256, 'kernel': 2_097_152},\n",
      "            'Dense_1': {'bias': 10, 'kernel': 2_560}}}\n"
     ]
    }
   ],
   "source": [
    "key = jax.random.key(42)\n",
    "key, subkey = jax.random.split(key)\n",
    "\n",
    "model = CIFARClassifier()\n",
    "\n",
    "params = model.init(subkey, x)\n",
    "pprint(jax.tree.map(jnp.size, params), underscore_numbers=True)"
   ]
  },
  {
   "cell_type": "markdown",
   "id": "736a1bff",
   "metadata": {},
   "source": [
    "## Train the image classifier"
   ]
  },
  {
   "cell_type": "code",
   "execution_count": 35,
   "id": "a99fb866",
   "metadata": {},
   "outputs": [
    {
     "name": "stdout",
     "output_type": "stream",
     "text": [
      "--- Epoch 1\n",
      "  Train loss:              1.5473\n",
      "  Validation loss:         1.1882\n",
      "  Validation accuracy:     0.5709\n",
      "\n",
      "--- Epoch 2\n",
      "  Train loss:              1.1285\n",
      "  Validation loss:         0.9822\n",
      "  Validation accuracy:     0.6633\n",
      "\n",
      "--- Epoch 3\n",
      "  Train loss:              0.9471\n",
      "  Validation loss:         0.8587\n",
      "  Validation accuracy:     0.7072\n",
      "\n",
      "--- Epoch 4\n",
      "  Train loss:              0.8222\n",
      "  Validation loss:         0.8020\n",
      "  Validation accuracy:     0.7179\n",
      "\n",
      "--- Epoch 5\n",
      "  Train loss:              0.7303\n",
      "  Validation loss:         0.7695\n",
      "  Validation accuracy:     0.7341\n",
      "\n",
      "--- Epoch 6\n",
      "  Train loss:              0.6403\n",
      "  Validation loss:         0.7375\n",
      "  Validation accuracy:     0.7468\n",
      "\n",
      "--- Epoch 7\n",
      "  Train loss:              0.5765\n",
      "  Validation loss:         0.7252\n",
      "  Validation accuracy:     0.7509\n",
      "\n",
      "--- Epoch 8\n",
      "  Train loss:              0.5076\n",
      "  Validation loss:         0.7639\n",
      "  Validation accuracy:     0.7474\n",
      "\n",
      "--- Epoch 9\n",
      "  Train loss:              0.4472\n",
      "  Validation loss:         0.7803\n",
      "  Validation accuracy:     0.7627\n",
      "\n",
      "--- Epoch 10\n",
      "  Train loss:              0.4045\n",
      "  Validation loss:         0.7176\n",
      "  Validation accuracy:     0.7680\n",
      "\n"
     ]
    }
   ],
   "source": [
    "import optax\n",
    "from flax.training.train_state import TrainState\n",
    "\n",
    "n_epochs = 10\n",
    "lr = 1e-3\n",
    "dropout_key = jax.random.key(42)\n",
    "\n",
    "tx = optax.adamw(lr)\n",
    "state = TrainState.create(apply_fn=model.apply, params=params, tx=tx)\n",
    "\n",
    "@jax.jit\n",
    "def train_step(state: TrainState, x, y, dropout_rng):\n",
    "    def loss_fn(params: jnp.ndarray):\n",
    "        logits = state.apply_fn(params, x, rngs={'dropout': dropout_rng})\n",
    "        return optax.softmax_cross_entropy(logits, y).mean()\n",
    "    \n",
    "    loss, grads = jax.value_and_grad(loss_fn)(state.params)\n",
    "    state = state.apply_gradients(grads=grads)\n",
    "    return loss, state\n",
    "\n",
    "@jax.jit\n",
    "def eval_step(state: TrainState, x: jnp.ndarray, y: jnp.ndarray) -> tuple[jnp.ndarray, jnp.ndarray]:\n",
    "    \"\"\"Performs a single evaluation step.\"\"\"\n",
    "    # Pass `train=False` to disable dropout\n",
    "    logits = state.apply_fn(state.params, x, train=False)\n",
    "    loss = optax.softmax_cross_entropy(logits, y).mean()\n",
    "    accuracy = jnp.mean(jnp.argmax(logits, -1) == y.argmax(-1))\n",
    "    return loss, accuracy\n",
    "\n",
    "epoch_stats = []\n",
    "for epoch in range(n_epochs):\n",
    "    print(f'--- Epoch {epoch+1}')\n",
    "    batch_losses = []\n",
    "    for x, y in trainloader:\n",
    "        dropout_key, subkey = jax.random.split(dropout_key)\n",
    "        batch_loss, state = train_step(state, x, y, subkey)\n",
    "        batch_losses.append(batch_loss)\n",
    "\n",
    "    # calculate the validation loss\n",
    "    # --- Evaluate on validation set ---\n",
    "    val_losses = []\n",
    "    val_accuracies = []\n",
    "    for x, y in valloader:\n",
    "        val_loss_batch, val_acc_batch = eval_step(state, x, y)\n",
    "        val_losses.append(val_loss_batch)\n",
    "        val_accuracies.append(val_acc_batch)\n",
    "    # --- Compute average metrics for the epoch ---\n",
    "\n",
    "    print(f'  Train loss:              {np.mean(batch_losses):.4f}')\n",
    "    print(f'  Validation loss:         {np.mean(val_losses):.4f}')\n",
    "    print(f'  Validation accuracy:     {np.mean(val_accuracies):.4f}\\n')"
   ]
  },
  {
   "cell_type": "code",
   "execution_count": null,
   "id": "edc7f3f4",
   "metadata": {},
   "outputs": [
    {
     "data": {
      "text/plain": [
       "[<matplotlib.lines.Line2D at 0x389aec690>]"
      ]
     },
     "execution_count": 12,
     "metadata": {},
     "output_type": "execute_result"
    },
    {
     "data": {
      "image/png": "[encoded data removed]",
      "text/plain": [
       "<Figure size 640x480 with 1 Axes>"
      ]
     },
     "metadata": {},
     "output_type": "display_data"
    }
   ],
   "source": [
    "# import matplotlib.pyplot as plt\n",
    "# plt.plot(batch_losses)"
   ]
  },
  {
   "cell_type": "code",
   "execution_count": null,
   "id": "f66ad38c",
   "metadata": {},
   "outputs": [],
   "source": []
  }
 ],
 "metadata": {
  "kernelspec": {
   "display_name": ".venv",
   "language": "python",
   "name": "python3"
  },
  "language_info": {
   "codemirror_mode": {
    "name": "ipython",
    "version": 3
   },
   "file_extension": ".py",
   "mimetype": "text/x-python",
   "name": "python",
   "nbconvert_exporter": "python",
   "pygments_lexer": "ipython3",
   "version": "3.13.3"
  }
 },
 "nbformat": 4,
 "nbformat_minor": 5
}
