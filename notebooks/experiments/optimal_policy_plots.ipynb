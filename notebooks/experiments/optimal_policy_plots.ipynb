{
 "cells": [
  {
   "cell_type": "code",
   "execution_count": 9,
   "id": "fee3adc4",
   "metadata": {},
   "outputs": [],
   "source": [
    "import pandas as pd\n",
    "import matplotlib.pyplot as plt"
   ]
  },
  {
   "cell_type": "code",
   "execution_count": null,
   "id": "ca19d520",
   "metadata": {},
   "outputs": [
    {
     "name": "stdout",
     "output_type": "stream",
     "text": [
      "optimal_all_runs.pkl  optimal_per_shift.pkl\n",
      "optimal_config.yaml   optimal_summary.tsv\n"
     ]
    }
   ],
   "source": [
    "!ls ../../results/acrobot/acrobot_optimal_policies/\n"
   ]
  },
  {
   "cell_type": "code",
   "execution_count": null,
   "id": "82f01e79",
   "metadata": {},
   "outputs": [],
   "source": [
    "# read in the results from the per-shift retraining experiment\n",
    "optimal_rewards = pd.read_csv('../../results/acrobot/acrobot_optimal_policies/optimal_summary.tsv', sep='\\t')"
   ]
  },
  {
   "cell_type": "code",
   "execution_count": 26,
   "id": "a1d9e597",
   "metadata": {},
   "outputs": [],
   "source": [
    "from functools import cache\n",
    "\n",
    "def maybe_get_value(run, key, i):\n",
    "    try:\n",
    "        returns = run[key][i]\n",
    "    except KeyError:\n",
    "        returns = None\n",
    "    return returns\n",
    "\n",
    "@cache\n",
    "def load_data(fp: str, param: str = \"length\"):\n",
    "    data = pd.read_pickle(fp)\n",
    "\n",
    "    df_data = []\n",
    "    # the data contains runs for a seed - each seed has 20 experiments with different\n",
    "    # lengths - and at each length there are 250 evaluations - so need to unnest and\n",
    "    # extract the relevant info.\n",
    "    for exp in data:\n",
    "        seed = exp[\"seed\"]\n",
    "        results = exp[\"results\"]\n",
    "        for run in results:\n",
    "            length = run[param]\n",
    "            for i in range(250):\n",
    "                returns_conf = maybe_get_value(run, 'returns_conf', i)\n",
    "                returns_ccnn = maybe_get_value(run, 'returns_ccnn', i)\n",
    "                returns_noconf = maybe_get_value(run, 'returns_noconf', i)\n",
    "                run_info = {\n",
    "                    \"seed\": seed,\n",
    "                    \"run\": i,\n",
    "                    param: length,\n",
    "                    \"returns_noconf\": returns_noconf,\n",
    "                    \"returns_conf\": returns_conf,\n",
    "                    \"returns_ccnn\": returns_ccnn,\n",
    "                }\n",
    "                returns_tta = maybe_get_value(run, 'returns_tta', i)\n",
    "                if returns_tta is not None:\n",
    "                    run_info.update({'returns_tta': returns_tta})\n",
    "                df_data.append(run_info)\n",
    "\n",
    "    return pd.DataFrame(df_data)"
   ]
  },
  {
   "cell_type": "code",
   "execution_count": 27,
   "id": "0021b69e",
   "metadata": {},
   "outputs": [],
   "source": [
    "normal_df = load_data('../../results/acrobot/vanilla/robustness_experiment.pkl', 'LINK_LENGTH_1')"
   ]
  },
  {
   "cell_type": "code",
   "execution_count": 114,
   "id": "0c3fe3da",
   "metadata": {},
   "outputs": [],
   "source": [
    "aggfunc = {'returns_noconf': ['mean', 'std']}\n",
    "agg_df = normal_df.groupby(['seed', 'LINK_LENGTH_1'], as_index=False).agg(aggfunc)\n",
    "agg_df.columns = [col[1] if col[1] else col[0] for col in agg_df.columns.values]\n",
    "max_returns = agg_df.groupby(['LINK_LENGTH_1'])['mean'].max()\n",
    "unoptimised_df = agg_df[agg_df['mean'].isin(max_returns)]\n",
    "unoptimised_df = unoptimised_df.set_index('LINK_LENGTH_1')[['mean', 'std']]\n",
    "unoptimised_df = unoptimised_df.sort_index()"
   ]
  },
  {
   "cell_type": "code",
   "execution_count": 115,
   "id": "02f7e4a8",
   "metadata": {},
   "outputs": [],
   "source": [
    "# # filter out bad seeds\n",
    "# agg_df = normal_df.groupby(['seed', 'LINK_LENGTH_1'], as_index=False)['returns_conf'].mean()\n",
    "# nominal_df = agg_df[agg_df['LINK_LENGTH_1'] == 1.0]\n",
    "# good_seeds = nominal_df.loc[nominal_df['returns_conf'] > -80, 'seed'].values\n",
    "# agg_df = agg_df[agg_df['seed'].isin(good_seeds)]\n",
    "# unoptimised_df = agg_df.groupby('LINK_LENGTH_1').agg({'returns_conf': ['mean', 'std']})\n",
    "# unoptimised_df.columns = [col[1] for col in unoptimised_df.columns.values]\n",
    "# unoptimised_df"
   ]
  },
  {
   "cell_type": "code",
   "execution_count": 129,
   "id": "afe762df",
   "metadata": {},
   "outputs": [
    {
     "data": {
      "text/html": [
       "<div>\n",
       "<style scoped>\n",
       "    .dataframe tbody tr th:only-of-type {\n",
       "        vertical-align: middle;\n",
       "    }\n",
       "\n",
       "    .dataframe tbody tr th {\n",
       "        vertical-align: top;\n",
       "    }\n",
       "\n",
       "    .dataframe thead th {\n",
       "        text-align: right;\n",
       "    }\n",
       "</style>\n",
       "<table border=\"1\" class=\"dataframe\">\n",
       "  <thead>\n",
       "    <tr style=\"text-align: right;\">\n",
       "      <th></th>\n",
       "      <th>mean</th>\n",
       "      <th>std</th>\n",
       "    </tr>\n",
       "    <tr>\n",
       "      <th>LINK_LENGTH_1</th>\n",
       "      <th></th>\n",
       "      <th></th>\n",
       "    </tr>\n",
       "  </thead>\n",
       "  <tbody>\n",
       "    <tr>\n",
       "      <th>0.5</th>\n",
       "      <td>-55.360</td>\n",
       "      <td>1.427779</td>\n",
       "    </tr>\n",
       "    <tr>\n",
       "      <th>0.6</th>\n",
       "      <td>-58.716</td>\n",
       "      <td>4.824984</td>\n",
       "    </tr>\n",
       "    <tr>\n",
       "      <th>0.7</th>\n",
       "      <td>-66.404</td>\n",
       "      <td>9.933958</td>\n",
       "    </tr>\n",
       "    <tr>\n",
       "      <th>0.8</th>\n",
       "      <td>-62.712</td>\n",
       "      <td>8.738335</td>\n",
       "    </tr>\n",
       "    <tr>\n",
       "      <th>0.9</th>\n",
       "      <td>-65.792</td>\n",
       "      <td>10.428410</td>\n",
       "    </tr>\n",
       "    <tr>\n",
       "      <th>1.0</th>\n",
       "      <td>-70.580</td>\n",
       "      <td>8.527042</td>\n",
       "    </tr>\n",
       "    <tr>\n",
       "      <th>1.1</th>\n",
       "      <td>-74.064</td>\n",
       "      <td>13.863502</td>\n",
       "    </tr>\n",
       "    <tr>\n",
       "      <th>1.2</th>\n",
       "      <td>-81.924</td>\n",
       "      <td>15.917654</td>\n",
       "    </tr>\n",
       "    <tr>\n",
       "      <th>1.3</th>\n",
       "      <td>-86.228</td>\n",
       "      <td>16.141195</td>\n",
       "    </tr>\n",
       "    <tr>\n",
       "      <th>1.4</th>\n",
       "      <td>-88.740</td>\n",
       "      <td>18.213603</td>\n",
       "    </tr>\n",
       "    <tr>\n",
       "      <th>1.5</th>\n",
       "      <td>-91.500</td>\n",
       "      <td>15.877607</td>\n",
       "    </tr>\n",
       "    <tr>\n",
       "      <th>1.6</th>\n",
       "      <td>-97.116</td>\n",
       "      <td>18.305708</td>\n",
       "    </tr>\n",
       "    <tr>\n",
       "      <th>1.7</th>\n",
       "      <td>-103.836</td>\n",
       "      <td>24.039983</td>\n",
       "    </tr>\n",
       "    <tr>\n",
       "      <th>1.8</th>\n",
       "      <td>-109.660</td>\n",
       "      <td>22.804046</td>\n",
       "    </tr>\n",
       "    <tr>\n",
       "      <th>1.9</th>\n",
       "      <td>-113.856</td>\n",
       "      <td>19.472029</td>\n",
       "    </tr>\n",
       "    <tr>\n",
       "      <th>2.0</th>\n",
       "      <td>-121.756</td>\n",
       "      <td>25.481714</td>\n",
       "    </tr>\n",
       "  </tbody>\n",
       "</table>\n",
       "</div>"
      ],
      "text/plain": [
       "                  mean        std\n",
       "LINK_LENGTH_1                    \n",
       "0.5            -55.360   1.427779\n",
       "0.6            -58.716   4.824984\n",
       "0.7            -66.404   9.933958\n",
       "0.8            -62.712   8.738335\n",
       "0.9            -65.792  10.428410\n",
       "1.0            -70.580   8.527042\n",
       "1.1            -74.064  13.863502\n",
       "1.2            -81.924  15.917654\n",
       "1.3            -86.228  16.141195\n",
       "1.4            -88.740  18.213603\n",
       "1.5            -91.500  15.877607\n",
       "1.6            -97.116  18.305708\n",
       "1.7           -103.836  24.039983\n",
       "1.8           -109.660  22.804046\n",
       "1.9           -113.856  19.472029\n",
       "2.0           -121.756  25.481714"
      ]
     },
     "execution_count": 129,
     "metadata": {},
     "output_type": "execute_result"
    }
   ],
   "source": [
    "unoptimised_df"
   ]
  },
  {
   "cell_type": "code",
   "execution_count": 134,
   "id": "7e8ebfbd",
   "metadata": {},
   "outputs": [
    {
     "data": {
      "image/png": "[encoded data removed]",
      "text/plain": [
       "<Figure size 640x480 with 1 Axes>"
      ]
     },
     "metadata": {},
     "output_type": "display_data"
    }
   ],
   "source": [
    "fig, ax = plt.subplots()\n",
    "\n",
    "# Plot the shift-trained results\n",
    "means = optimal_rewards.set_index('value')['best_mean_return']\n",
    "yerr = optimal_rewards.set_index('value')['best_std_return']\n",
    "x = means.index\n",
    "y = means.values\n",
    "yerr = yerr.values\n",
    "ax.plot(x, y, marker='o', label='Trained per-shift')\n",
    "ax.fill_between(x, y - yerr, y + yerr, alpha=0.3, zorder=-1)\n",
    "\n",
    "# plot the un-retrained results\n",
    "x = unoptimised_df.index\n",
    "y = unoptimised_df['mean'].values\n",
    "yerr = unoptimised_df['std'].values\n",
    "ax.plot(x, y, marker='o', label='Not retrained')\n",
    "ax.fill_between(x, y - yerr, y + yerr, alpha=0.3, zorder=-1)\n",
    "\n",
    "\n",
    "# ax = optimal_rewards.plot(x='value', y='best_mean_return', marker='o', label='Trained on shift', yerr='best_std_return')\n",
    "# # ax.plot(unoptimised_df['mean'], marker='o', label='Trained on nominal', yerr=unoptimised_df['std'])\n",
    "# unoptimised_df.plot(y='mean', yerr='std', ax=ax, marker='o', label='')\n",
    "\n",
    "ax.axvline(1.0, linestyle='--', c='k', alpha=0.5, zorder=-5)\n",
    "ax.spines['top'].set_visible(False)\n",
    "ax.spines['right'].set_visible(False)\n",
    "ax.set_xticks([0.5, 1.0, 1.5, 2.0])\n",
    "ax.set_xlim(0.45, 2.05)\n",
    "ax.legend(frameon=False)\n",
    "ax.set_xlabel('Link Length 1')\n",
    "ax.set_ylabel('Episodic reward')\n",
    "ax.set_ylabel('Episodic reward')\n",
    "ax.set_title('Acrobot mean episodic reward when re-training for parameter shift')\n",
    "ax.grid(which='major', axis='y', alpha=0.3, linewidth=1)"
   ]
  },
  {
   "cell_type": "code",
   "execution_count": null,
   "id": "add7eca5",
   "metadata": {},
   "outputs": [],
   "source": []
  }
 ],
 "metadata": {
  "kernelspec": {
   "display_name": "msc-thesis",
   "language": "python",
   "name": "python3"
  },
  "language_info": {
   "codemirror_mode": {
    "name": "ipython",
    "version": 3
   },
   "file_extension": ".py",
   "mimetype": "text/x-python",
   "name": "python",
   "nbconvert_exporter": "python",
   "pygments_lexer": "ipython3",
   "version": "3.13.3"
  }
 },
 "nbformat": 4,
 "nbformat_minor": 5
}
